{
  "nbformat": 4,
  "nbformat_minor": 0,
  "metadata": {
    "colab": {
      "provenance": [],
      "authorship_tag": "ABX9TyOtMk0KE9SXCfdiHUYaCd2+",
      "include_colab_link": true
    },
    "kernelspec": {
      "name": "python3",
      "display_name": "Python 3"
    },
    "language_info": {
      "name": "python"
    }
  },
  "cells": [
    {
      "cell_type": "markdown",
      "metadata": {
        "id": "view-in-github",
        "colab_type": "text"
      },
      "source": [
        "<a href=\"https://colab.research.google.com/github/MariaCruzC/RepositotrioAnalisisDatos/blob/main/Laboratorio1MariaCruz.ipynb\" target=\"_parent\"><img src=\"https://colab.research.google.com/assets/colab-badge.svg\" alt=\"Open In Colab\"/></a>"
      ]
    },
    {
      "cell_type": "code",
      "execution_count": null,
      "metadata": {
        "colab": {
          "base_uri": "https://localhost:8080/"
        },
        "id": "-xf9zk5tHpdQ",
        "outputId": "f0fe202c-1f4d-4f18-b210-8d24f1d01554"
      },
      "outputs": [
        {
          "output_type": "stream",
          "name": "stdout",
          "text": [
            "Ejercicio #1 Calcular distacia\n",
            "Ingrese la velocidad y el tiempo de la unidad movil\n",
            "ingrese la velocidad: 25\n",
            "Ingrese el tiempo: 5\n",
            "La distancia es: 125.0\n"
          ]
        }
      ],
      "source": [
        "print(\"Ejercicio #1 Calcular distacia\")\n",
        "print(\"Ingrese la velocidad y el tiempo de la unidad movil\")\n",
        "v=float(input(\"ingrese la velocidad: \"))\n",
        "t= float(input(\"Ingrese el tiempo: \"))\n",
        "print(\"La distancia es: \"+str(v*t))"
      ]
    },
    {
      "cell_type": "code",
      "source": [
        "print(\"Ejercicio #2 Promedio de NOTAS\")\n",
        "nota1=float(input(\"Ingrese la nota 1: \"))\n",
        "nota2=float(input(\"Ingrese la nota 2: \"))\n",
        "nota3=float(input(\"Ingrese la nota 3: \"))\n",
        "print(\"El promedio de las notas es \" + str((nota1+nota2+nota3)/3))"
      ],
      "metadata": {
        "colab": {
          "base_uri": "https://localhost:8080/"
        },
        "id": "Kmhk0fsuJg68",
        "outputId": "87bd2b44-c703-4e69-ae02-f54b197fbebd"
      },
      "execution_count": null,
      "outputs": [
        {
          "output_type": "stream",
          "name": "stdout",
          "text": [
            "Ejercicio #2 Promedio de NOTAS\n",
            "Ingrese la nota 1: 90\n",
            "Ingrese la nota 2: 80\n",
            "Ingrese la nota 3: 80\n",
            "El promedio de las notas es 83.33333333333333\n"
          ]
        }
      ]
    },
    {
      "cell_type": "code",
      "source": [
        "print(\"Ejercicio #3  \")\n",
        "\n",
        "RC =float(input(\"Ingrese la cantidad de respuestas correctas \"))\n",
        "RI =float(input(\"Ingrese la cantidad de respuestas incorrectas \"))\n",
        "RB =float(input(\"Ingrese la cantidad de respuestas Blanco \"))\n",
        "PF= RC * 3 + RI *-1\n",
        "print(f\"EL NUMERO DE RESPUESTAS CORRECTAS ES: {RC}\")\n",
        "print(f\"EL NUMERO DE RESPUESTAS INCORRECTAS ES: {RI}\")\n",
        "print(f\"EL NUMERO DE RESPUESTAS Blanco ES: {RB}\")\n",
        "print(f\"EL NUMERO DE PUNTAJE ES : {PF}\")\n",
        "\n",
        "\n"
      ],
      "metadata": {
        "colab": {
          "base_uri": "https://localhost:8080/"
        },
        "id": "WcoaSVmCLC9k",
        "outputId": "9a2df877-edd7-4e94-90e4-4c10bbb2dc69"
      },
      "execution_count": null,
      "outputs": [
        {
          "output_type": "stream",
          "name": "stdout",
          "text": [
            "Ejercicio #3  \n",
            "Ingrese la cantidad de respuestas correctas 1\n",
            "Ingrese la cantidad de respuestas incorrectas 2\n",
            "Ingrese la cantidad de respuestas Blanco 3\n",
            "EL NUMERO DE RESPUESTAS CORRECTAS ES: 1.0\n",
            "EL NUMERO DE RESPUESTAS INCORRECTAS ES: 2.0\n",
            "EL NUMERO DE RESPUESTAS Blanco ES: 3.0\n",
            "EL NUMERO DE PUNTAJE ES : 1.0\n"
          ]
        }
      ]
    }
  ]
}