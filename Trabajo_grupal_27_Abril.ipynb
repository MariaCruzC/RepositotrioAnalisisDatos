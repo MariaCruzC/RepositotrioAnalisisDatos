{
  "cells": [
    {
      "cell_type": "markdown",
      "metadata": {
        "id": "view-in-github",
        "colab_type": "text"
      },
      "source": [
        "<a href=\"https://colab.research.google.com/github/MariaCruzC/RepositotrioAnalisisDatos/blob/main/Trabajo_grupal_27_Abril.ipynb\" target=\"_parent\"><img src=\"https://colab.research.google.com/assets/colab-badge.svg\" alt=\"Open In Colab\"/></a>"
      ]
    },
    {
      "cell_type": "markdown",
      "metadata": {
        "id": "3r5DiyXzmGiG"
      },
      "source": [
        "Integrantes\n",
        "\n",
        "*   Norman Betancourtt Mairena\n",
        "*   Gianluca Gibelato Romero\n",
        "*   Carlos Albornoz Rondon\n",
        "*   Maria Cruz Campos\n",
        "\n"
      ]
    },
    {
      "cell_type": "code",
      "execution_count": null,
      "metadata": {
        "id": "Z24JCDZ1e5Kk"
      },
      "outputs": [],
      "source": [
        "import pandas as pd\n",
        "\n",
        "df=pd.read_csv('/content/result.csv')\n",
        "data = pd.DataFrame(df)\n",
        "dataPerAnno = (data['fechalocal']).tolist()\n",
        "for i in range(len(dataPerAnno)):\n",
        "  dataPerAnno[i] = dataPerAnno[i].split('-')[0]\n",
        "\n",
        "data['anno'] = dataPerAnno\n",
        "\n",
        "provincias = (data['localizacion']).tolist()\n",
        "for i in range(len(provincias)):\n",
        "  provincias[i] = provincias[i].split()[-1]\n",
        "\n",
        "data['provincia'] = provincias\n"
      ]
    },
    {
      "cell_type": "code",
      "execution_count": null,
      "metadata": {
        "colab": {
          "base_uri": "https://localhost:8080/"
        },
        "id": "J54Uglwskv6X",
        "outputId": "a53a81f4-77a2-4918-ad32-08bdd244cc9d"
      },
      "outputs": [
        {
          "name": "stdout",
          "output_type": "stream",
          "text": [
            "                                            localizacion  fechalocal\n",
            "0             2.7 km al Sureste de Paquera de Puntarenas  2018-01-01\n",
            "31          24.8 km al Suroeste de Parrita de Puntarenas  2018-01-01\n",
            "32                3.7 km al Noreste de Copey de San Jose  2018-01-01\n",
            "33           3.1 km al Noroeste de Santa Cruz de Cartago  2018-01-01\n",
            "34                4.3 km al Noreste de Rivas de San Jose  2018-01-01\n",
            "...                                                  ...         ...\n",
            "36132  4.2 km al Suroeste de Bahia Ballena de Puntarenas  2023-01-01\n",
            "36131            0.4 km al Sur de Tarcoles de Puntarenas  2023-01-01\n",
            "36147         5.7 km al Noreste de Pittier de Puntarenas  2023-01-01\n",
            "36138         10.7 km al Suroeste de Chirripo de Cartago  2023-01-01\n",
            "36148         48.4 km al Oeste de Sardinal de Guanacaste  2023-01-01\n",
            "\n",
            "[36149 rows x 2 columns]\n"
          ]
        }
      ],
      "source": [
        "#Parte 2\n",
        "datosOrdenadosDescendente = data.sort_values(by=[\"fechalocal\"], ascending = True)[[\"localizacion\", \"fechalocal\"]]\n",
        "print(datosOrdenadosDescendente)"
      ]
    },
    {
      "cell_type": "code",
      "execution_count": null,
      "metadata": {
        "colab": {
          "base_uri": "https://localhost:8080/"
        },
        "id": "ZC-8icsfm_l6",
        "outputId": "fa138bfa-bf7e-448b-ec4a-b5dd8969fbac"
      },
      "outputs": [
        {
          "name": "stdout",
          "output_type": "stream",
          "text": [
            "Digite el anno: 2018\n",
            "Digite la provincia: Heredia\n",
            "      fecha  hora  latitud  longitud  profundidad  magnitud  \\\n",
            "259     NaN   NaN  10.1781  -84.1401           15       1.8   \n",
            "289     NaN   NaN  10.0746  -84.0336           19       1.2   \n",
            "421     NaN   NaN  10.5342  -84.0427           98       1.8   \n",
            "610     NaN   NaN   9.9891  -84.0998           76       2.9   \n",
            "1135    NaN   NaN  10.3624  -84.1185          115       2.7   \n",
            "...     ...   ...      ...       ...          ...       ...   \n",
            "6500    NaN   NaN  10.2415  -84.0845           92       2.1   \n",
            "6641    NaN   NaN  10.1263  -84.1395           72       1.9   \n",
            "6804    NaN   NaN  10.1409  -84.0467           85       2.0   \n",
            "6881    NaN   NaN  10.0499  -84.0475           99       3.4   \n",
            "6934    NaN   NaN  10.2582  -84.0538           98       2.3   \n",
            "\n",
            "                                       localizacion    codigo_user  \\\n",
            "259     0.6 km al Noroeste de Varablanca de Heredia   :wjimenMwpMl   \n",
            "289       4.4 km al Noroeste de San Jose de Heredia    :fvegaMwpMl   \n",
            "421       0.6 km al Sureste de La Virgen de Heredia       :fvegaMl   \n",
            "610      0.6 km al Suroeste de San Pablo de Heredia          :rqMl   \n",
            "1135         2.1 km al Este de La Virgen de Heredia          :rqMl   \n",
            "...                                             ...            ...   \n",
            "6500     6.7 km al Noreste de Varablanca de Heredia  UNA:jprottiMl   \n",
            "6641  1.7 km al Sureste de Santo Domingo de Heredia    UNA:fvegaMl   \n",
            "6804     4.8 km al Sureste de Varablanca de Heredia        OV:rqMl   \n",
            "6881     2.3 km al Noreste de Concepcion de Heredia          olDbg   \n",
            "6934        9.5 km al Oeste de Horquetas de Heredia     olDbgMwpMl   \n",
            "\n",
            "            origen horalocal  ...        time  reviewed  ndef  nass  magtype  \\\n",
            "259   unknown type  22:21:22  ...  1515560000         y    18    18       ml   \n",
            "289   unknown type  00:37:55  ...  1515570000         y    14    14       ml   \n",
            "421   unknown type  22:41:35  ...  1515990000         y    12    12       ml   \n",
            "610   unknown type  02:44:36  ...  1516870000         y    50    50       ml   \n",
            "1135  unknown type  15:27:15  ...  1519590000         y    16    16       ml   \n",
            "...            ...       ...  ...         ...       ...   ...   ...      ...   \n",
            "6500  unknown type  05:48:03  ...  1544180000         y    12    12       ml   \n",
            "6641  unknown type  18:48:37  ...  1544490000         y    12    12       ml   \n",
            "6804  unknown type  05:06:01  ...  1545390000         y    17    17       ml   \n",
            "6881  unknown type  01:09:18  ...  1545810000         -    24    25       ml   \n",
            "6934  unknown type  13:27:55  ...  1546030000         y    19    20       ml   \n",
            "\n",
            "      sdobs counter  cobertura  anno provincia  \n",
            "259     NaN     NaN        NaN  2018   Heredia  \n",
            "289     NaN     NaN        NaN  2018   Heredia  \n",
            "421     NaN     NaN        NaN  2018   Heredia  \n",
            "610     NaN     NaN        NaN  2018   Heredia  \n",
            "1135    NaN     NaN        NaN  2018   Heredia  \n",
            "...     ...     ...        ...   ...       ...  \n",
            "6500    NaN     NaN        NaN  2018   Heredia  \n",
            "6641    NaN     NaN        NaN  2018   Heredia  \n",
            "6804    NaN     NaN        NaN  2018   Heredia  \n",
            "6881    NaN     NaN        NaN  2018   Heredia  \n",
            "6934    NaN     NaN        NaN  2018   Heredia  \n",
            "\n",
            "[92 rows x 25 columns]\n"
          ]
        }
      ],
      "source": [
        "# (3) Buscar solicitando anno y provincia\n",
        "\n",
        "anno = input('Digite el anno: ')\n",
        "provincia = input('Digite la provincia: ')\n",
        "\n",
        "\n",
        "print(data.loc[(data['anno']==anno) & (data['provincia']==provincia)])\n",
        "\n"
      ]
    },
    {
      "cell_type": "code",
      "execution_count": null,
      "metadata": {
        "colab": {
          "background_save": true,
          "base_uri": "https://localhost:8080/"
        },
        "id": "PKPBfCA7jEM1",
        "outputId": "f0be4e31-8a03-44db-a6f3-f94648fee15f"
      },
      "outputs": [
        {
          "name": "stdout",
          "output_type": "stream",
          "text": [
            "\n",
            "\n",
            "\n",
            "(1) Filtro una columna versus fila\n"
          ]
        }
      ],
      "source": [
        "# (1) Filtro una columna versus fila\n",
        "print()\n",
        "print()\n",
        "print()\n",
        "print('(1) Filtro una columna versus fila')\n",
        "col = str(input('Inserte un nombre de columna: '))\n",
        "row = int(input('Inserte un numero de fila: '))\n",
        "\n",
        "requestedValue = data[col][row];\n",
        "print(requestedValue)\n",
        "\n",
        "\n",
        "\n",
        "# (4) Haciendo uso de una sumatoria, obtener el valor total de una columna\n",
        "\n",
        "print()\n",
        "print()\n",
        "print('(4) Haciendo uso de una sumatoria, obtener el valor total de una columna')\n",
        "total = float(data['profundidad'].sum())\n",
        "print('Profundidad Total: ', total)\n",
        "print('Profunidad Promedio: ', total / len(df))"
      ]
    },
    {
      "cell_type": "code",
      "execution_count": null,
      "metadata": {
        "colab": {
          "base_uri": "https://localhost:8080/"
        },
        "id": "9Nswgq8hlsQg",
        "outputId": "d5174dbf-6cf3-4090-ebc4-1fb3f0d4d10d"
      },
      "outputs": [
        {
          "name": "stdout",
          "output_type": "stream",
          "text": [
            "      magnitud                                localizacion  fechalocal\n",
            "2088       3.6   0.5 km al Sureste de La Virgen de Heredia  2018-04-21\n",
            "5061       4.3  1.2 km al Suroeste de La Virgen de Heredia  2018-10-05\n",
            "6881       3.4  2.3 km al Noreste de Concepcion de Heredia  2018-12-26\n"
          ]
        }
      ],
      "source": [
        "#Parte 5\n",
        "\n",
        "registro_general = df.loc[( (df[\"magnitud\"] >= 3) & (df[\"localizacion\"].str.contains(\"Heredia\")) & (df[\"fechalocal\"].str.contains(\"2018\")))][[\"magnitud\", \"localizacion\", \"fechalocal\"]]\n",
        "print(registro_general)"
      ]
    },
    {
      "cell_type": "code",
      "execution_count": null,
      "metadata": {
        "id": "doCApSdzk5X-"
      },
      "outputs": [],
      "source": []
    }
  ],
  "metadata": {
    "colab": {
      "provenance": [],
      "include_colab_link": true
    },
    "kernelspec": {
      "display_name": "Python 3",
      "name": "python3"
    },
    "language_info": {
      "name": "python"
    }
  },
  "nbformat": 4,
  "nbformat_minor": 0
}