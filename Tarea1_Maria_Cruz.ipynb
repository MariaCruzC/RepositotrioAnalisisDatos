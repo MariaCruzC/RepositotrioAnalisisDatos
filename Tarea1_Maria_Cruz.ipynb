{
  "nbformat": 4,
  "nbformat_minor": 0,
  "metadata": {
    "colab": {
      "provenance": [],
      "authorship_tag": "ABX9TyPJzuwXZQekVhZOVrQwxE7h",
      "include_colab_link": true
    },
    "kernelspec": {
      "name": "python3",
      "display_name": "Python 3"
    },
    "language_info": {
      "name": "python"
    }
  },
  "cells": [
    {
      "cell_type": "markdown",
      "metadata": {
        "id": "view-in-github",
        "colab_type": "text"
      },
      "source": [
        "<a href=\"https://colab.research.google.com/github/MariaCruzC/RepositotrioAnalisisDatos/blob/main/Tarea1_Maria_Cruz.ipynb\" target=\"_parent\"><img src=\"https://colab.research.google.com/assets/colab-badge.svg\" alt=\"Open In Colab\"/></a>"
      ]
    },
    {
      "cell_type": "code",
      "source": [
        "print(\"Ejercicio # 1\")\n",
        "print(\"Año bisiesto \")\n",
        "anio = int(input(\"Ingrese el año: \"))\n",
        "\n",
        "if (anio % 400 ==0) or (anio % 4 ==0) and (anio % 100 !=0):\n",
        "    print(anio, \"es un año bisiesto\")\n",
        "else:\n",
        "    print(anio, \"no es un año bisiesto\")"
      ],
      "metadata": {
        "colab": {
          "base_uri": "https://localhost:8080/"
        },
        "id": "BtYzFVjSDMeJ",
        "outputId": "3657db38-44b2-4f5f-ceb2-2d1036f7fc25"
      },
      "execution_count": null,
      "outputs": [
        {
          "output_type": "stream",
          "name": "stdout",
          "text": [
            "Ejercicio # 1\n",
            "Año bisiesto \n",
            "Ingrese el año: 2022\n",
            "2022 no es un año bisiesto\n"
          ]
        }
      ]
    },
    {
      "cell_type": "code",
      "source": [
        "print(\"-----Ejercicio # 2-------\")\n",
        "print(\"-------Switch------------\")\n",
        "switcher={1: \"Enero\",2: \"Febrero\",3: \"Marzo\",4: \"Abril\",5: \"Mayo\",6: \"Junio\", 7: \"Julio\",8: \"Agosto\",9: \"Septiembre\",10: \"Octubre\", 11: \"Noviembre\",12: \"Diciembre\"}\n",
        "argument=int(input(\"Ingrese el numero:\"))\n",
        "nombreDeMes=switcher.get(argument,\"Mes invalido\")\n",
        "print(nombreDeMes)"
      ],
      "metadata": {
        "colab": {
          "base_uri": "https://localhost:8080/"
        },
        "id": "KPdF1RoKEzlX",
        "outputId": "52b01be2-cfd0-40c8-9dfc-cb7f3ee389e8"
      },
      "execution_count": null,
      "outputs": [
        {
          "output_type": "stream",
          "name": "stdout",
          "text": [
            "-----Ejercicio # 2-------\n",
            "-------Switch------------\n",
            "Ingrese el numero:5\n",
            "Mayo\n"
          ]
        }
      ]
    },
    {
      "cell_type": "code",
      "source": [
        "print(\"-----Ejercicio # 3-------\")\n",
        "print(\"-------Problema #1 Capital e Interes------------\")\n",
        "## Creacion de variables\n",
        "C=-1\n",
        "I=0\n",
        "M=0\n",
        "while(C < 0)or (I < 0) or(I >= 100) or (M <= 0):\n",
        "      print(\"Introduce el capital, el interes, y el tiempo apropiado\")\n",
        "      C=int(input(\"Capital: \"))\n",
        "      I=int(input(\"Interes: \"))\n",
        "      M=int(input(\"Tiempo en años: \"))\n",
        "\n",
        "for i in range(M):\n",
        "  C=C*(1+ I/100)\n",
        "  print(\"Monto: \", C, \"Colones\")"
      ],
      "metadata": {
        "colab": {
          "base_uri": "https://localhost:8080/"
        },
        "id": "BjkqgZCAFRr5",
        "outputId": "c901f4ed-63b0-43a9-9789-3d13f2610b9e"
      },
      "execution_count": null,
      "outputs": [
        {
          "output_type": "stream",
          "name": "stdout",
          "text": [
            "-----Ejercicio # 3-------\n",
            "-------Problema #1 Capital e Interes------------\n",
            "Introduce el capital, el interes, y el tiempo apropiado\n",
            "Capital: 1000\n",
            "Interes: 10\n",
            "Tiempo en años: 20\n",
            "Monto:  1100.0 Colones\n",
            "Monto:  1210.0 Colones\n",
            "Monto:  1331.0 Colones\n",
            "Monto:  1464.1000000000001 Colones\n",
            "Monto:  1610.5100000000002 Colones\n",
            "Monto:  1771.5610000000004 Colones\n",
            "Monto:  1948.7171000000005 Colones\n",
            "Monto:  2143.5888100000006 Colones\n",
            "Monto:  2357.9476910000008 Colones\n",
            "Monto:  2593.742460100001 Colones\n",
            "Monto:  2853.1167061100014 Colones\n",
            "Monto:  3138.4283767210018 Colones\n",
            "Monto:  3452.271214393102 Colones\n",
            "Monto:  3797.4983358324125 Colones\n",
            "Monto:  4177.248169415654 Colones\n",
            "Monto:  4594.97298635722 Colones\n",
            "Monto:  5054.470284992943 Colones\n",
            "Monto:  5559.917313492238 Colones\n",
            "Monto:  6115.909044841462 Colones\n",
            "Monto:  6727.499949325608 Colones\n"
          ]
        }
      ]
    },
    {
      "cell_type": "code",
      "source": [
        "print(\"-----Ejercicio # 4-------\")\n",
        "print(\"-------Divisores------------\")\n",
        "## calculo de divisores\n",
        "numero=int(input(\"Ingrese un numero: \"))\n",
        "while numero>0:\n",
        "  suma=0\n",
        "  for i in range(1,numero+1):\n",
        "    if(numero % i==0):\n",
        "      suma=suma + i\n",
        "  print (suma) \n",
        "  numero=int(input(\"Numero: \"))\n",
        "\n",
        "# 1+2+5+10=18"
      ],
      "metadata": {
        "colab": {
          "base_uri": "https://localhost:8080/"
        },
        "id": "j4dctxkwGQhj",
        "outputId": "ccfb5e11-fb50-4825-ca9c-ad7be119e664"
      },
      "execution_count": null,
      "outputs": [
        {
          "name": "stdout",
          "output_type": "stream",
          "text": [
            "-----Ejercicio # 4-------\n",
            "-------Divisores------------\n",
            "Ingrese un numero: 5\n",
            "6\n",
            "Numero: 10\n",
            "18\n",
            "Numero: 0\n"
          ]
        }
      ]
    },
    {
      "cell_type": "code",
      "source": [
        "print(\"-----Ejercicio # 5-------\")\n",
        "print(\"-------Vectores calculo de la media de las temperaturas------------\")\n",
        "vector = [35, 34, 33, 32, 27, 25,21] #  vector\n",
        "\n",
        "# Calcular la suma de los elementos del vector\n",
        "suma = sum(vector)\n",
        "\n",
        "# Calcular la cantidad de elementos del vector\n",
        "n = len(vector)\n",
        "\n",
        "# Calcular la media\n",
        "media= suma / n\n",
        "media = round(media, 2)\n",
        "\n",
        "print(\"La media del vector es:\", media)"
      ],
      "metadata": {
        "colab": {
          "base_uri": "https://localhost:8080/"
        },
        "id": "G11Dj_isHNP6",
        "outputId": "89b77ee1-8cd8-4c55-dd33-761f82b9a87b"
      },
      "execution_count": null,
      "outputs": [
        {
          "output_type": "stream",
          "name": "stdout",
          "text": [
            "-----Ejercicio # 5-------\n",
            "-------Vectores calculo de la media  ------------\n",
            "La media del vector es: 29.57\n"
          ]
        }
      ]
    }
  ]
}