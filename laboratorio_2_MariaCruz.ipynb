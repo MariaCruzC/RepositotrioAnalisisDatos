{
  "nbformat": 4,
  "nbformat_minor": 0,
  "metadata": {
    "colab": {
      "provenance": [],
      "include_colab_link": true
    },
    "kernelspec": {
      "name": "python3",
      "display_name": "Python 3"
    },
    "language_info": {
      "name": "python"
    }
  },
  "cells": [
    {
      "cell_type": "markdown",
      "metadata": {
        "id": "view-in-github",
        "colab_type": "text"
      },
      "source": [
        "<a href=\"https://colab.research.google.com/github/MariaCruzC/RepositotrioAnalisisDatos/blob/main/laboratorio_2_MariaCruz.ipynb\" target=\"_parent\"><img src=\"https://colab.research.google.com/assets/colab-badge.svg\" alt=\"Open In Colab\"/></a>"
      ]
    },
    {
      "cell_type": "code",
      "execution_count": null,
      "metadata": {
        "colab": {
          "base_uri": "https://localhost:8080/"
        },
        "id": "CzvbHixk3TUX",
        "outputId": "0146de05-0863-4aa0-a759-68e2d8e85bfa"
      },
      "outputs": [
        {
          "output_type": "stream",
          "name": "stdout",
          "text": [
            "-----------------------------\n",
            "Ejemplo2: IMPRIMIR EL MENOR DE LOS NUMEROS\n",
            "-----------------------------\n",
            "Ingrese 2 numeros: \n",
            "Primer numero: 7\n",
            "Segundo numero: 3\n",
            "SALIDA \n",
            "-----------------------------\n",
            "El menor es:  3\n"
          ]
        }
      ],
      "source": [
        "#Decoracion: Nombre del ALGORITMO\n",
        "print(\"-----------------------------\")\n",
        "print(\"Ejemplo2: IMPRIMIR EL MENOR DE LOS NUMEROS\")\n",
        "print(\"-----------------------------\")\n",
        "#Entradas\n",
        "print(\"Ingrese 2 numeros: \")\n",
        "x= int(input(\"Primer numero: \"))\n",
        "y= int(input(\"Segundo numero: \"))\n",
        "print(\"SALIDA \")\n",
        "print(\"-----------------------------\")\n",
        "#no olvidar la identación\n",
        "if x > y:\n",
        "#esto es dentro del if \n",
        "  print(\"El menor es: \", y)\n",
        "\n",
        "else:\n",
        "  #esto es dentro del else\n",
        "  print(\"El menor es: \", x)\n",
        "\n"
      ]
    },
    {
      "cell_type": "code",
      "source": [
        "switcher={1: \"Enero\",2: \"Febrero\",3: \"Marzo\",4: \"Abril\",5: \"Mayo\",6: \"Junio\", 7: \"Julio\",8: \"Agosto\",9: \"Septiembre\",10: \"Octubre\", 11: \"Noviembre\",12: \"Diciembre\"}\n",
        "argument=int(input(\"Ingrese el numero:\"))\n",
        "nombreDeMes=switcher.get(argument,\"Mes invalido\")\n",
        "print(nombreDeMes)"
      ],
      "metadata": {
        "colab": {
          "base_uri": "https://localhost:8080/"
        },
        "id": "EfsLTRou5C9G",
        "outputId": "c69e3e55-c99d-4962-dad4-b91516685caa"
      },
      "execution_count": null,
      "outputs": [
        {
          "output_type": "stream",
          "name": "stdout",
          "text": [
            "Ingrese el numero:12\n",
            "Diciembre\n"
          ]
        }
      ]
    }
  ]
}