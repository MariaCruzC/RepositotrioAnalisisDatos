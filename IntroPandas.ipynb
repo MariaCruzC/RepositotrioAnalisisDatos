{
  "nbformat": 4,
  "nbformat_minor": 0,
  "metadata": {
    "colab": {
      "provenance": [],
      "authorship_tag": "ABX9TyP37Xhr4dE3qJr6clvnEBcv",
      "include_colab_link": true
    },
    "kernelspec": {
      "name": "python3",
      "display_name": "Python 3"
    },
    "language_info": {
      "name": "python"
    }
  },
  "cells": [
    {
      "cell_type": "markdown",
      "metadata": {
        "id": "view-in-github",
        "colab_type": "text"
      },
      "source": [
        "<a href=\"https://colab.research.google.com/github/MariaCruzC/RepositotrioAnalisisDatos/blob/main/IntroPandas.ipynb\" target=\"_parent\"><img src=\"https://colab.research.google.com/assets/colab-badge.svg\" alt=\"Open In Colab\"/></a>"
      ]
    },
    {
      "cell_type": "code",
      "execution_count": null,
      "metadata": {
        "colab": {
          "base_uri": "https://localhost:8080/"
        },
        "id": "7LbiR3GdVbMp",
        "outputId": "a84e04ff-ead5-4343-8cb0-1a59a2e2cdd6"
      },
      "outputs": [
        {
          "output_type": "stream",
          "name": "stdout",
          "text": [
            "      Country    Capital Population\n",
            "0  Costa Rica   San Jose        NaN\n",
            "1       India  New Delhi        NaN\n",
            "2      Brazil   Brasilia        NaN\n"
          ]
        }
      ],
      "source": [
        "import pandas as pd\n",
        "\n",
        "data={'Country': ['Costa Rica', 'India','Brazil'],\n",
        "      'Capital':['San Jose', 'New Delhi','Brasilia'],\n",
        "      'Polulation': [450000,1303171035,2078475228]}\n",
        "df=pd.DataFrame(data,columns =['Country','Capital','Population'])\n",
        "print(df)"
      ]
    },
    {
      "cell_type": "code",
      "source": [
        "print(\"Promedio de los elementos del vestor\")\n",
        "Suma=0\n",
        "Media=0\n",
        "Temp=[]\n",
        "print(\"Ingrese la cantidad de temperaturas\")\n",
        "N=int(input())\n",
        "\n",
        "for i in range(N):\n",
        "  temperatura=float(input(\"Ingrese la temperatura: \"))\n",
        "  Temp.append(temperatura)\n",
        "  Suma=Suma+Temp[i]\n",
        "\n",
        "Media=Suma/N\n",
        "print(Media)\n"
      ],
      "metadata": {
        "colab": {
          "base_uri": "https://localhost:8080/"
        },
        "id": "-cKE1rIJZysY",
        "outputId": "c7680b4f-3e49-4ddd-824d-edb8534c1a7e"
      },
      "execution_count": null,
      "outputs": [
        {
          "output_type": "stream",
          "name": "stdout",
          "text": [
            "Promedio de los elementos del vestor\n",
            "Ingrese la cantidad de temperaturas\n",
            "2\n",
            "Ingrese la temperatura: 50\n",
            "Ingrese la temperatura: 50\n",
            "50.0\n"
          ]
        }
      ]
    },
    {
      "cell_type": "code",
      "source": [
        "import pandas as pd\n",
        "\n",
        "mascota=pd.DataFrame(\n",
        "  data={\n",
        "      'name':['Minino','Milo','Snoppy','Blanco','LittlePony'],\n",
        "      'type':['gato','perro','perro','perro','caballo']  \n",
        "    },\n",
        "    index=[71,42,11,98,42]\n",
        ")\n",
        "\n",
        "visitas=pd.DataFrame(\n",
        "  data={\n",
        "      'pet_id':[42,31,71,42,98,42],\n",
        "      'fecha':['2019-03-15','2019-03-15','2019-04-05','2019-04-06','2019-04-12','2019-04-15'],\n",
        "      'costo':[2000,5000,1000,5000,6000,10000]\n",
        "    }\n",
        ")\n",
        "\n",
        "mascota.index.rename('pet_id',inplace=True)\n",
        "\n",
        "print(visitas)\n",
        "visitas.index.rename('visit_id',inplace=True)\n",
        "\n",
        "\n",
        "print(visitas)\n",
        "print(mascota.query('pet_id==71'))\n",
        "\n",
        "print(visitas['costo'].sum())\n",
        "print(visitas['costo'].min())\n",
        "print(visitas['costo'].max())\n",
        "\n",
        "print(visitas)\n",
        "\n",
        "print(visitas.sort_values(by='costo',ascending=False))\n",
        "\n",
        "tienda=pd.merge(mascota,visitas, how='cross')\n",
        "print(tienda)\n",
        "\n",
        "\n",
        "\n",
        "\n",
        "\n",
        "\n"
      ],
      "metadata": {
        "colab": {
          "base_uri": "https://localhost:8080/"
        },
        "id": "dieH_9Q3bm5X",
        "outputId": "37929de7-3456-4dc6-f84c-654f0bc0d681"
      },
      "execution_count": null,
      "outputs": [
        {
          "output_type": "stream",
          "name": "stdout",
          "text": [
            "   pet_id       fecha  costo\n",
            "0      42  2019-03-15   2000\n",
            "1      31  2019-03-15   5000\n",
            "2      71  2019-04-05   1000\n",
            "3      42  2019-04-06   5000\n",
            "4      98  2019-04-12   6000\n",
            "5      42  2019-04-15  10000\n",
            "          pet_id       fecha  costo\n",
            "visit_id                           \n",
            "0             42  2019-03-15   2000\n",
            "1             31  2019-03-15   5000\n",
            "2             71  2019-04-05   1000\n",
            "3             42  2019-04-06   5000\n",
            "4             98  2019-04-12   6000\n",
            "5             42  2019-04-15  10000\n",
            "          name  type\n",
            "pet_id              \n",
            "71      Minino  gato\n",
            "29000\n",
            "1000\n",
            "10000\n",
            "          pet_id       fecha  costo\n",
            "visit_id                           \n",
            "0             42  2019-03-15   2000\n",
            "1             31  2019-03-15   5000\n",
            "2             71  2019-04-05   1000\n",
            "3             42  2019-04-06   5000\n",
            "4             98  2019-04-12   6000\n",
            "5             42  2019-04-15  10000\n",
            "          pet_id       fecha  costo\n",
            "visit_id                           \n",
            "5             42  2019-04-15  10000\n",
            "4             98  2019-04-12   6000\n",
            "1             31  2019-03-15   5000\n",
            "3             42  2019-04-06   5000\n",
            "0             42  2019-03-15   2000\n",
            "2             71  2019-04-05   1000\n",
            "          name     type  pet_id       fecha  costo\n",
            "0       Minino     gato      42  2019-03-15   2000\n",
            "1       Minino     gato      31  2019-03-15   5000\n",
            "2       Minino     gato      71  2019-04-05   1000\n",
            "3       Minino     gato      42  2019-04-06   5000\n",
            "4       Minino     gato      98  2019-04-12   6000\n",
            "5       Minino     gato      42  2019-04-15  10000\n",
            "6         Milo    perro      42  2019-03-15   2000\n",
            "7         Milo    perro      31  2019-03-15   5000\n",
            "8         Milo    perro      71  2019-04-05   1000\n",
            "9         Milo    perro      42  2019-04-06   5000\n",
            "10        Milo    perro      98  2019-04-12   6000\n",
            "11        Milo    perro      42  2019-04-15  10000\n",
            "12      Snoppy    perro      42  2019-03-15   2000\n",
            "13      Snoppy    perro      31  2019-03-15   5000\n",
            "14      Snoppy    perro      71  2019-04-05   1000\n",
            "15      Snoppy    perro      42  2019-04-06   5000\n",
            "16      Snoppy    perro      98  2019-04-12   6000\n",
            "17      Snoppy    perro      42  2019-04-15  10000\n",
            "18      Blanco    perro      42  2019-03-15   2000\n",
            "19      Blanco    perro      31  2019-03-15   5000\n",
            "20      Blanco    perro      71  2019-04-05   1000\n",
            "21      Blanco    perro      42  2019-04-06   5000\n",
            "22      Blanco    perro      98  2019-04-12   6000\n",
            "23      Blanco    perro      42  2019-04-15  10000\n",
            "24  LittlePony  caballo      42  2019-03-15   2000\n",
            "25  LittlePony  caballo      31  2019-03-15   5000\n",
            "26  LittlePony  caballo      71  2019-04-05   1000\n",
            "27  LittlePony  caballo      42  2019-04-06   5000\n",
            "28  LittlePony  caballo      98  2019-04-12   6000\n",
            "29  LittlePony  caballo      42  2019-04-15  10000\n"
          ]
        }
      ]
    }
  ]
}